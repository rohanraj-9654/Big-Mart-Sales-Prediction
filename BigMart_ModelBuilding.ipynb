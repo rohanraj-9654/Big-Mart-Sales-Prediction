{
 "cells": [
  {
   "cell_type": "code",
   "execution_count": 6,
   "metadata": {},
   "outputs": [],
   "source": [
    "import pandas as pd\n",
    "import numpy as np\n",
    "\n",
    "from sklearn.model_selection import train_test_split\n",
    "from sklearn import metrics\n",
    "from sklearn.linear_model import Ridge, Lasso, LinearRegression\n",
    "from sklearn.tree import DecisionTreeRegressor\n",
    "from sklearn.neighbors import KNeighborsRegressor\n",
    "\n",
    "import warnings\n",
    "warnings.filterwarnings('always')\n",
    "warnings.filterwarnings('ignore')"
   ]
  },
  {
   "cell_type": "code",
   "execution_count": 2,
   "metadata": {},
   "outputs": [
    {
     "data": {
      "text/html": [
       "<div>\n",
       "<style scoped>\n",
       "    .dataframe tbody tr th:only-of-type {\n",
       "        vertical-align: middle;\n",
       "    }\n",
       "\n",
       "    .dataframe tbody tr th {\n",
       "        vertical-align: top;\n",
       "    }\n",
       "\n",
       "    .dataframe thead th {\n",
       "        text-align: right;\n",
       "    }\n",
       "</style>\n",
       "<table border=\"1\" class=\"dataframe\">\n",
       "  <thead>\n",
       "    <tr style=\"text-align: right;\">\n",
       "      <th></th>\n",
       "      <th>Item_Outlet_Sales</th>\n",
       "      <th>Item_Identifier</th>\n",
       "      <th>Item_Weight</th>\n",
       "      <th>Item_Fat_Content</th>\n",
       "      <th>Item_Visibility</th>\n",
       "      <th>Item_Type</th>\n",
       "      <th>Item_MRP</th>\n",
       "      <th>Outlet_Identifier</th>\n",
       "      <th>Outlet_Establishment_Year</th>\n",
       "      <th>Outlet_Size</th>\n",
       "      <th>Outlet_Location_Type</th>\n",
       "      <th>Outlet_Type</th>\n",
       "    </tr>\n",
       "  </thead>\n",
       "  <tbody>\n",
       "    <tr>\n",
       "      <td>0</td>\n",
       "      <td>3735.1380</td>\n",
       "      <td>0.100128</td>\n",
       "      <td>0.282525</td>\n",
       "      <td>0.0</td>\n",
       "      <td>0.048866</td>\n",
       "      <td>0.266667</td>\n",
       "      <td>0.927507</td>\n",
       "      <td>1.000000</td>\n",
       "      <td>0.583333</td>\n",
       "      <td>0.5</td>\n",
       "      <td>0.0</td>\n",
       "      <td>0.333333</td>\n",
       "    </tr>\n",
       "    <tr>\n",
       "      <td>1</td>\n",
       "      <td>443.4228</td>\n",
       "      <td>0.005135</td>\n",
       "      <td>0.081274</td>\n",
       "      <td>1.0</td>\n",
       "      <td>0.058705</td>\n",
       "      <td>0.933333</td>\n",
       "      <td>0.072068</td>\n",
       "      <td>0.333333</td>\n",
       "      <td>1.000000</td>\n",
       "      <td>0.5</td>\n",
       "      <td>1.0</td>\n",
       "      <td>0.666667</td>\n",
       "    </tr>\n",
       "    <tr>\n",
       "      <td>2</td>\n",
       "      <td>2097.2700</td>\n",
       "      <td>0.424904</td>\n",
       "      <td>0.770765</td>\n",
       "      <td>0.0</td>\n",
       "      <td>0.051037</td>\n",
       "      <td>0.666667</td>\n",
       "      <td>0.468288</td>\n",
       "      <td>1.000000</td>\n",
       "      <td>0.583333</td>\n",
       "      <td>0.5</td>\n",
       "      <td>0.0</td>\n",
       "      <td>0.333333</td>\n",
       "    </tr>\n",
       "    <tr>\n",
       "      <td>3</td>\n",
       "      <td>732.3800</td>\n",
       "      <td>0.719512</td>\n",
       "      <td>0.871986</td>\n",
       "      <td>1.0</td>\n",
       "      <td>0.000000</td>\n",
       "      <td>0.400000</td>\n",
       "      <td>0.640093</td>\n",
       "      <td>0.000000</td>\n",
       "      <td>0.541667</td>\n",
       "      <td>0.5</td>\n",
       "      <td>1.0</td>\n",
       "      <td>0.000000</td>\n",
       "    </tr>\n",
       "    <tr>\n",
       "      <td>4</td>\n",
       "      <td>994.7052</td>\n",
       "      <td>0.832478</td>\n",
       "      <td>0.260494</td>\n",
       "      <td>0.0</td>\n",
       "      <td>0.000000</td>\n",
       "      <td>0.600000</td>\n",
       "      <td>0.095805</td>\n",
       "      <td>0.111111</td>\n",
       "      <td>0.083333</td>\n",
       "      <td>0.0</td>\n",
       "      <td>1.0</td>\n",
       "      <td>0.333333</td>\n",
       "    </tr>\n",
       "  </tbody>\n",
       "</table>\n",
       "</div>"
      ],
      "text/plain": [
       "   Item_Outlet_Sales  Item_Identifier  Item_Weight  Item_Fat_Content  \\\n",
       "0          3735.1380         0.100128     0.282525               0.0   \n",
       "1           443.4228         0.005135     0.081274               1.0   \n",
       "2          2097.2700         0.424904     0.770765               0.0   \n",
       "3           732.3800         0.719512     0.871986               1.0   \n",
       "4           994.7052         0.832478     0.260494               0.0   \n",
       "\n",
       "   Item_Visibility  Item_Type  Item_MRP  Outlet_Identifier  \\\n",
       "0         0.048866   0.266667  0.927507           1.000000   \n",
       "1         0.058705   0.933333  0.072068           0.333333   \n",
       "2         0.051037   0.666667  0.468288           1.000000   \n",
       "3         0.000000   0.400000  0.640093           0.000000   \n",
       "4         0.000000   0.600000  0.095805           0.111111   \n",
       "\n",
       "   Outlet_Establishment_Year  Outlet_Size  Outlet_Location_Type  Outlet_Type  \n",
       "0                   0.583333          0.5                   0.0     0.333333  \n",
       "1                   1.000000          0.5                   1.0     0.666667  \n",
       "2                   0.583333          0.5                   0.0     0.333333  \n",
       "3                   0.541667          0.5                   1.0     0.000000  \n",
       "4                   0.083333          0.0                   1.0     0.333333  "
      ]
     },
     "execution_count": 2,
     "metadata": {},
     "output_type": "execute_result"
    }
   ],
   "source": [
    "train = pd.read_csv('X_train.csv')\n",
    "test = pd.read_csv(\"X_test.csv\")\n",
    "train.head()"
   ]
  },
  {
   "cell_type": "code",
   "execution_count": 3,
   "metadata": {},
   "outputs": [],
   "source": [
    "# Seperate Features and Target\n",
    "X= train.drop(columns = ['Item_Outlet_Sales'], axis=1)\n",
    "Y= train['Item_Outlet_Sales']"
   ]
  },
  {
   "cell_type": "code",
   "execution_count": 4,
   "metadata": {},
   "outputs": [],
   "source": [
    "# 20% data as validation set\n",
    "X_train,X_valid,Y_train,Y_valid = train_test_split(X,Y,test_size=0.2,random_state=22)"
   ]
  },
  {
   "cell_type": "markdown",
   "metadata": {},
   "source": [
    "#### Model Building"
   ]
  },
  {
   "cell_type": "code",
   "execution_count": 9,
   "metadata": {},
   "outputs": [],
   "source": [
    "algos = [LinearRegression(),  Ridge(), Lasso(), KNeighborsRegressor(), DecisionTreeRegressor()]\n",
    "names = ['Linear Regression', 'Ridge Regression', 'Lasso Regression', 'K Neighbors Regressor', 'Decision Tree Regressor']\n",
    "rmse_list = []"
   ]
  },
  {
   "cell_type": "code",
   "execution_count": 10,
   "metadata": {},
   "outputs": [],
   "source": [
    "for name in algos:\n",
    "    model = name\n",
    "    model.fit(X_train,Y_train)\n",
    "    y_pred = model.predict(X_valid)\n",
    "    MSE= metrics.mean_squared_error(Y_valid,y_pred)\n",
    "    rmse = np.sqrt(MSE)\n",
    "    rmse_list.append(rmse)"
   ]
  },
  {
   "cell_type": "code",
   "execution_count": 12,
   "metadata": {},
   "outputs": [
    {
     "data": {
      "text/html": [
       "<div>\n",
       "<style scoped>\n",
       "    .dataframe tbody tr th:only-of-type {\n",
       "        vertical-align: middle;\n",
       "    }\n",
       "\n",
       "    .dataframe tbody tr th {\n",
       "        vertical-align: top;\n",
       "    }\n",
       "\n",
       "    .dataframe thead th {\n",
       "        text-align: right;\n",
       "    }\n",
       "</style>\n",
       "<table border=\"1\" class=\"dataframe\">\n",
       "  <thead>\n",
       "    <tr style=\"text-align: right;\">\n",
       "      <th></th>\n",
       "      <th>Model</th>\n",
       "      <th>RMSE</th>\n",
       "    </tr>\n",
       "  </thead>\n",
       "  <tbody>\n",
       "    <tr>\n",
       "      <td>0</td>\n",
       "      <td>Linear Regression</td>\n",
       "      <td>1246.207910</td>\n",
       "    </tr>\n",
       "    <tr>\n",
       "      <td>1</td>\n",
       "      <td>Ridge Regression</td>\n",
       "      <td>1246.109964</td>\n",
       "    </tr>\n",
       "    <tr>\n",
       "      <td>2</td>\n",
       "      <td>Lasso Regression</td>\n",
       "      <td>1245.629281</td>\n",
       "    </tr>\n",
       "    <tr>\n",
       "      <td>3</td>\n",
       "      <td>K Neighbors Regressor</td>\n",
       "      <td>1271.340568</td>\n",
       "    </tr>\n",
       "    <tr>\n",
       "      <td>4</td>\n",
       "      <td>Decision Tree Regressor</td>\n",
       "      <td>1570.928075</td>\n",
       "    </tr>\n",
       "  </tbody>\n",
       "</table>\n",
       "</div>"
      ],
      "text/plain": [
       "                     Model         RMSE\n",
       "0        Linear Regression  1246.207910\n",
       "1         Ridge Regression  1246.109964\n",
       "2         Lasso Regression  1245.629281\n",
       "3    K Neighbors Regressor  1271.340568\n",
       "4  Decision Tree Regressor  1570.928075"
      ]
     },
     "execution_count": 12,
     "metadata": {},
     "output_type": "execute_result"
    }
   ],
   "source": [
    "evaluation = pd.DataFrame({'Model': names,\n",
    "                           'RMSE': rmse_list})\n",
    "evaluation"
   ]
  },
  {
   "cell_type": "markdown",
   "metadata": {},
   "source": [
    "#### As we can clearly see Lasso performs slighlty better than Ridge and Linear regression. KNN Regressor and Decision Tree Regressor do not improve the score so we can select Lasso for making our final predictions"
   ]
  },
  {
   "cell_type": "code",
   "execution_count": 14,
   "metadata": {},
   "outputs": [],
   "source": [
    "submission = pd.read_csv('sample_submission_8RXa3c6.csv')\n",
    "model = Lasso()\n",
    "model.fit(X, Y)\n",
    "final_predictions = model.predict(test)\n",
    "submission['Item_Outlet_Sales'] = final_predictions\n",
    "#only positive predictions for the target variable\n",
    "submission['Item_Outlet_Sales'] = submission['Item_Outlet_Sales'].apply(lambda x: 0 if x<0 else x)\n",
    "submission.to_csv('rohan_submission.csv', index=False)"
   ]
  }
 ],
 "metadata": {
  "kernelspec": {
   "display_name": "Python 3",
   "language": "python",
   "name": "python3"
  },
  "language_info": {
   "codemirror_mode": {
    "name": "ipython",
    "version": 3
   },
   "file_extension": ".py",
   "mimetype": "text/x-python",
   "name": "python",
   "nbconvert_exporter": "python",
   "pygments_lexer": "ipython3",
   "version": "3.7.4"
  }
 },
 "nbformat": 4,
 "nbformat_minor": 2
}
